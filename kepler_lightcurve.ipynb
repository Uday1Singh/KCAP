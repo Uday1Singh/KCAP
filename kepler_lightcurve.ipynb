{
 "cells": [
  {
   "cell_type": "markdown",
   "metadata": {},
   "source": [
    "<a id=\"title_ID\"></a>\n",
    "# Using Kepler Data to Plot a Light Curve \n",
    "<br>This notebook tutorial demonstrates the process of loading and extracting information from Kepler light curve FITS files to plot a light curve and display the photometric aperture. \n",
    "<div style=\"text-align: left\">  \n",
    "\n"
   ]
  },
  {
   "cell_type": "markdown",
   "metadata": {
    "slideshow": {
     "slide_type": "-"
    }
   },
   "source": [
    "***"
   ]
  },
  {
   "cell_type": "markdown",
   "metadata": {},
   "source": [
    "<a id=\"intro_ID\"></a>\n",
    "## Introduction\n",
    "\n",
    "**Light curve background:**\n",
    "A light curve is a plot of flux versus time that shows the variability of light output from an object. This is one way to find planets periodically transitting a star. The light curves made here will plot the corrected and uncorrected fluxes from Kepler data of object KIC 11446443 (TRES-2). \n",
    "\n",
    "**Some notes about the file:** kplr_011446443-2009131110544_slc.fits\n",
    "<br>The filename contains phrases for identification, where\n",
    " - kplr = Kepler \n",
    " - 011446443 = Kepler ID number\n",
    " - 2009131110544 = year 2009, day 131, time 11:05:44\n",
    " - slc = short cadence\n",
    "\n",
    "**Defining some terms:**\n",
    " - **Cadence:** the frequency with which summed data are read out. Files are either short cadence (a 1 minute sum) or long cadence (a 30 minute sum).\n",
    " - **SAP Flux:** Simple Aperture Photometry flux; flux after summing the calibrated pixels within the optimal aperture\n",
    " - **PDCSAP Flux:** Pre-search Data Conditioned Simple Aperture Photometry; these are the flux values nominally corrected for instrumental variations. \n",
    " - **BJD:** Barycentric Julian Day; this is the Julian Date that has been corrected for differences in the Earth's position with respect to the Solar System Barycentre (center of mass of the Solar System).\n",
    " - **HDU:** Header Data Unit; a FITS file is made up of Header or Data units that contain information, data, and metadata relating to the file. The first HDU is called the primary, and anything that follows is considered an extension. \n"
   ]
  },
  {
   "cell_type": "markdown",
   "metadata": {},
   "source": [
    "***"
   ]
  },
  {
   "cell_type": "markdown",
   "metadata": {},
   "source": [
    "<a id=\"imports_ID\"></a>\n",
    "## Imports\n",
    "Let's start by importing some libraries to the environment: \n",
    "- *matplotlib notebook* for creating interactive plots \n",
    "- *astropy.io fits* for accessing FITS files\n",
    "- *astropy.table Table* for creating tidy tables of the data\n",
    "- *matplotlib* for plotting data"
   ]
  },
  {
   "cell_type": "code",
   "execution_count": 25,
   "metadata": {},
   "outputs": [],
   "source": [
    "%matplotlib notebook\n",
    "from astropy.io import fits\n",
    "from astropy.table import Table \n",
    "import matplotlib.pyplot as plt"
   ]
  },
  {
   "cell_type": "markdown",
   "metadata": {},
   "source": [
    "[Top of Page](#title_ID)"
   ]
  },
  {
   "cell_type": "markdown",
   "metadata": {},
   "source": [
    "***"
   ]
  },
  {
   "cell_type": "markdown",
   "metadata": {},
   "source": [
    "<a id=\"data_ID\"></a>\n",
    "## Getting the Data\n",
    "Start by importing libraries from Astroquery. For a longer, more detailed description using of Astroquery, please visit this [tutorial](https://github.com/spacetelescope/MAST-API-Notebooks/blob/master/MUG2018_APITutorial_Astroquery.ipynb) or read the Astroquery [documentation](https://astroquery.readthedocs.io/en/latest/#). "
   ]
  },
  {
   "cell_type": "code",
   "execution_count": 9,
   "metadata": {},
   "outputs": [],
   "source": [
    "from astroquery.mast import Mast\n",
    "from astroquery.mast import Observations"
   ]
  },
  {
   "cell_type": "markdown",
   "metadata": {},
   "source": [
    "<br>Next, we need to find the data file. This is similar to searching for the data using the [MAST Portal](https://mast.stsci.edu/portal/Mashup/Clients/Mast/Portal.html) in that we will be using certain keywords to find the file. The target name of the object we are looking for is kplr011446443, collected by the Kepler spacecraft."
   ]
  },
  {
   "cell_type": "code",
   "execution_count": 10,
   "metadata": {},
   "outputs": [
    {
     "data": {
      "text/html": [
       "<div><i>Table masked=True length=1</i>\n",
       "<table id=\"table2551374527232\" class=\"table-striped table-bordered table-condensed\">\n",
       "<thead><tr><th>obsID</th><th>obs_collection</th><th>dataproduct_type</th><th>obs_id</th><th>description</th><th>type</th><th>dataURI</th><th>productType</th><th>productGroupDescription</th><th>productSubGroupDescription</th><th>productDocumentationURL</th><th>project</th><th>prvversion</th><th>proposal_id</th><th>productFilename</th><th>size</th><th>parent_obsid</th><th>dataRights</th><th>calib_level</th></tr></thead>\n",
       "<thead><tr><th>str6</th><th>str6</th><th>str10</th><th>str36</th><th>str60</th><th>str1</th><th>str110</th><th>str7</th><th>str28</th><th>str8</th><th>str1</th><th>str6</th><th>str1</th><th>str7</th><th>str44</th><th>int64</th><th>str6</th><th>str6</th><th>int64</th></tr></thead>\n",
       "<tr><td>601031</td><td>Kepler</td><td>timeseries</td><td>kplr011446443_sc_Q113313330333033302</td><td>Lightcurve Short Cadence (CSC) - Q0</td><td>C</td><td>mast:KEPLER/url/missions/kepler/lightcurves/0114/011446443/kplr011446443-2009131110544_slc.fits</td><td>SCIENCE</td><td>Minimum Recommended Products</td><td>SLC</td><td>--</td><td>Kepler</td><td>--</td><td>EX_STKS</td><td>kplr011446443-2009131110544_slc.fits</td><td>1457280</td><td>601031</td><td>PUBLIC</td><td>2</td></tr>\n",
       "</table></div>"
      ],
      "text/plain": [
       "<Table masked=True length=1>\n",
       "obsID  obs_collection dataproduct_type ... parent_obsid dataRights calib_level\n",
       " str6       str6           str10       ...     str6        str6       int64   \n",
       "------ -------------- ---------------- ... ------------ ---------- -----------\n",
       "601031         Kepler       timeseries ...       601031     PUBLIC           2"
      ]
     },
     "execution_count": 10,
     "metadata": {},
     "output_type": "execute_result"
    }
   ],
   "source": [
    "keplerObs = Observations.query_criteria(target_name='kplr011446443', obs_collection='Kepler')\n",
    "keplerProds = Observations.get_product_list(keplerObs[1])\n",
    "yourProd = Observations.filter_products(keplerProds, extension='kplr011446443-2009131110544_slc.fits', \n",
    "                                        mrp_only=False)\n",
    "yourProd"
   ]
  },
  {
   "cell_type": "markdown",
   "metadata": {},
   "source": [
    "<br>Now that we've found the data file, we can download it using the reults shown in the table above:"
   ]
  },
  {
   "cell_type": "code",
   "execution_count": 11,
   "metadata": {},
   "outputs": [
    {
     "name": "stdout",
     "output_type": "stream",
     "text": [
      "Downloading URL https://mast.stsci.edu/api/v0.1/Download/file?uri=mast:KEPLER/url/missions/kepler/lightcurves/0114/011446443/kplr011446443-2009131110544_slc.fits to ./mastDownload\\Kepler\\kplr011446443_sc_Q113313330333033302\\kplr011446443-2009131110544_slc.fits ... [Done]\n"
     ]
    },
    {
     "data": {
      "text/html": [
       "<div><i>Table length=1</i>\n",
       "<table id=\"table2551375055136\" class=\"table-striped table-bordered table-condensed\">\n",
       "<thead><tr><th>Local Path</th><th>Status</th><th>Message</th><th>URL</th></tr></thead>\n",
       "<thead><tr><th>str95</th><th>str8</th><th>object</th><th>object</th></tr></thead>\n",
       "<tr><td>./mastDownload\\Kepler\\kplr011446443_sc_Q113313330333033302\\kplr011446443-2009131110544_slc.fits</td><td>COMPLETE</td><td>None</td><td>None</td></tr>\n",
       "</table></div>"
      ],
      "text/plain": [
       "<Table length=1>\n",
       "                                           Local Path                                           ...\n",
       "                                             str95                                              ...\n",
       "----------------------------------------------------------------------------------------------- ...\n",
       "./mastDownload\\Kepler\\kplr011446443_sc_Q113313330333033302\\kplr011446443-2009131110544_slc.fits ..."
      ]
     },
     "execution_count": 11,
     "metadata": {},
     "output_type": "execute_result"
    }
   ],
   "source": [
    "Observations.download_products(yourProd, mrp_only = False, cache = False) "
   ]
  },
  {
   "cell_type": "markdown",
   "metadata": {},
   "source": [
    "<br>Click on the blue URL above to download the file. You are now ready to complete the rest of the notebook."
   ]
  },
  {
   "cell_type": "markdown",
   "metadata": {},
   "source": [
    "[Top of Page](#title_ID)"
   ]
  },
  {
   "cell_type": "markdown",
   "metadata": {},
   "source": [
    "***"
   ]
  },
  {
   "cell_type": "markdown",
   "metadata": {},
   "source": [
    "<a id=\"header_ID\"></a>\n",
    "## Reading FITS Extensions\n",
    "<br>Now that we have the file, we can start working with the data. We will begin by assigning a shorter name to the file to make it easier to use. Then, using the info function from astropy.io.fits, we can see some information about the FITS Header Data Units:"
   ]
  },
  {
   "cell_type": "code",
   "execution_count": 12,
   "metadata": {},
   "outputs": [
    {
     "name": "stdout",
     "output_type": "stream",
     "text": [
      "Filename: ./mastDownload/Kepler/kplr011446443_sc_Q113313330333033302/kplr011446443-2009131110544_slc.fits\n",
      "No.    Name      Ver    Type      Cards   Dimensions   Format\n",
      "  0  PRIMARY       1 PrimaryHDU      58   ()      \n",
      "  1  LIGHTCURVE    1 BinTableHDU    155   14280R x 20C   [D, E, J, E, E, E, E, E, E, J, D, E, D, E, D, E, D, E, E, E]   \n",
      "  2  APERTURE      1 ImageHDU        48   (8, 9)   int32   \n"
     ]
    }
   ],
   "source": [
    "filename = \"./mastDownload/Kepler/kplr011446443_sc_Q113313330333033302/kplr011446443-2009131110544_slc.fits\"\n",
    "fits.info(filename)"
   ]
  },
  {
   "cell_type": "markdown",
   "metadata": {},
   "source": [
    " - **No. 0 (Primary): **\n",
    " <br>This HDU contains meta-data related to the entire file.\n",
    " - **No. 1 (Light curve): **\n",
    " <br>This HDU contains a binary table that holds data like flux measurements and times. We will extract information from here when we define the parameters for the light curve plot.\n",
    " - **No. 2 (Aperture): **\n",
    " <br>This HDU contains the image extension with data collected from the aperture. We will also use this to display a bitmask plot that visually represents the optimal aperture used to create the SAP_FLUX column in HDU1.\n",
    "\n",
    "For more detailed information about header extensions, look [here](https://archive.stsci.edu/kepler/manuals/archive_manual.pdf#page=17).\n",
    "\n",
    "<br>Let's say we wanted to see more information about the extensions than what the fits.info command gave us. For example, we can access information stored in the header of the Binary Table extension (No. 1, LIGHTCURVE). The following line opens the FITS file, writes the first HDU extension into header1, and then closes the file. Only 24 columns are displayed here but you can view them all by adjusting the range: "
   ]
  },
  {
   "cell_type": "code",
   "execution_count": 23,
   "metadata": {},
   "outputs": [
    {
     "name": "stdout",
     "output_type": "stream",
     "text": [
      "XTENSION= 'BINTABLE'           / marks the beginning of a new HDU               \n",
      "BITPIX  =                    8 / array data type                                \n",
      "NAXIS   =                    2 / number of array dimensions                     \n",
      "NAXIS1  =                  100 / length of first array dimension                \n",
      "NAXIS2  =                14280 / length of second array dimension               \n",
      "PCOUNT  =                    0 / group parameter count (not used)               \n",
      "GCOUNT  =                    1 / group count (not used)                         \n",
      "TFIELDS =                   20 / number of table fields                         \n",
      "TTYPE1  = 'TIME    '           / column title: data time stamps                 \n",
      "TFORM1  = 'D       '           / column format: 64-bit floating point           \n",
      "TUNIT1  = 'BJD - 2454833'      / column units: barycenter corrected JD          \n",
      "TDISP1  = 'D14.7   '           / column display format                          \n",
      "TTYPE2  = 'TIMECORR'           / column title: barycenter - timeslice correction\n",
      "TFORM2  = 'E       '           / column format: 32-bit floating point           \n",
      "TUNIT2  = 'd       '           / column units: day                              \n",
      "TDISP2  = 'E13.6   '           / column display format                          \n",
      "TTYPE3  = 'CADENCENO'          / column title: unique cadence number            \n",
      "TFORM3  = 'J       '           / column format: signed 32-bit integer           \n",
      "TDISP3  = 'I10     '           / column display format                          \n",
      "TTYPE4  = 'SAP_FLUX'           / column title: aperture photometry flux         \n",
      "TFORM4  = 'E       '           / column format: 32-bit floating point           \n",
      "TUNIT4  = 'e-/s    '           / column units: electrons per second             \n",
      "TDISP4  = 'E14.7   '           / column display format                          \n",
      "TTYPE5  = 'SAP_FLUX_ERR'       / column title: aperture phot. flux error        \n"
     ]
    }
   ],
   "source": [
    "with fits.open(filename) as hdulist: \n",
    "    header1 = hdulist[1].header\n",
    "  \n",
    "print(repr(header1[0:24])) #repr() prints the info into neat columns"
   ]
  },
  {
   "cell_type": "markdown",
   "metadata": {},
   "source": [
    "<br> We can also view a table of the data from the Binary Table extension. This is where we can find the flux and time columns to be plotted later. Here only the first four rows of the table are displayed:"
   ]
  },
  {
   "cell_type": "code",
   "execution_count": 24,
   "metadata": {
    "scrolled": true
   },
   "outputs": [
    {
     "data": {
      "text/html": [
       "<div><i>Table length=4</i>\n",
       "<table id=\"table2551392434320\" class=\"table-striped table-bordered table-condensed\">\n",
       "<thead><tr><th>TIME</th><th>TIMECORR</th><th>CADENCENO</th><th>SAP_FLUX</th><th>SAP_FLUX_ERR</th><th>SAP_BKG</th><th>SAP_BKG_ERR</th><th>PDCSAP_FLUX</th><th>PDCSAP_FLUX_ERR</th><th>SAP_QUALITY</th><th>PSF_CENTR1</th><th>PSF_CENTR1_ERR</th><th>PSF_CENTR2</th><th>PSF_CENTR2_ERR</th><th>MOM_CENTR1</th><th>MOM_CENTR1_ERR</th><th>MOM_CENTR2</th><th>MOM_CENTR2_ERR</th><th>POS_CORR1</th><th>POS_CORR2</th></tr></thead>\n",
       "<thead><tr><th>float64</th><th>float32</th><th>int32</th><th>float32</th><th>float32</th><th>float32</th><th>float32</th><th>float32</th><th>float32</th><th>int32</th><th>float64</th><th>float32</th><th>float64</th><th>float32</th><th>float64</th><th>float32</th><th>float64</th><th>float32</th><th>float32</th><th>float32</th></tr></thead>\n",
       "<tr><td>120.52992386784899</td><td>0.00096672785</td><td>5501</td><td>401288.16</td><td>91.51187</td><td>2598.1086</td><td>0.5752603</td><td>406100.9</td><td>127.528824</td><td>0</td><td>nan</td><td>nan</td><td>nan</td><td>nan</td><td>621.2181187542091</td><td>0.0002101067</td><td>848.8972881655714</td><td>0.00029125414</td><td>0.0002031729</td><td>-0.0025746305</td></tr>\n",
       "<tr><td>120.53060508973431</td><td>0.00096674974</td><td>5502</td><td>401425.53</td><td>91.53448</td><td>2598.0261</td><td>0.57525027</td><td>406242.22</td><td>125.212105</td><td>0</td><td>nan</td><td>nan</td><td>nan</td><td>nan</td><td>621.2190207168474</td><td>0.00021018942</td><td>848.8935790650855</td><td>0.0002912894</td><td>0.00021144762</td><td>-0.0025837936</td></tr>\n",
       "<tr><td>120.53128621167707</td><td>0.0009667717</td><td>5503</td><td>401172.0</td><td>91.517265</td><td>2597.9438</td><td>0.5752402</td><td>405984.03</td><td>123.31339</td><td>0</td><td>nan</td><td>nan</td><td>nan</td><td>nan</td><td>621.2179228162092</td><td>0.00021032244</td><td>848.894852260174</td><td>0.0002914222</td><td>0.00021972114</td><td>-0.0025929555</td></tr>\n",
       "<tr><td>120.53196743356966</td><td>0.00096679357</td><td>5504</td><td>401473.62</td><td>91.53064</td><td>2597.8613</td><td>0.5752302</td><td>406293.0</td><td>121.84987</td><td>0</td><td>nan</td><td>nan</td><td>nan</td><td>nan</td><td>621.2198263101714</td><td>0.00021020704</td><td>848.8961790332079</td><td>0.00029115527</td><td>0.00022799587</td><td>-0.0026021185</td></tr>\n",
       "</table></div>"
      ],
      "text/plain": [
       "<Table length=4>\n",
       "       TIME           TIMECORR   CADENCENO ...   POS_CORR1     POS_CORR2  \n",
       "     float64          float32      int32   ...    float32       float32   \n",
       "------------------ ------------- --------- ... ------------- -------------\n",
       "120.52992386784899 0.00096672785      5501 ...  0.0002031729 -0.0025746305\n",
       "120.53060508973431 0.00096674974      5502 ... 0.00021144762 -0.0025837936\n",
       "120.53128621167707  0.0009667717      5503 ... 0.00021972114 -0.0025929555\n",
       "120.53196743356966 0.00096679357      5504 ... 0.00022799587 -0.0026021185"
      ]
     },
     "execution_count": 24,
     "metadata": {},
     "output_type": "execute_result"
    }
   ],
   "source": [
    "with fits.open(filename) as hdulist:\n",
    "    binaryext = hdulist[1].data\n",
    "\n",
    "binarytable = Table(binaryext)\n",
    "binarytable[1:5]"
   ]
  },
  {
   "cell_type": "markdown",
   "metadata": {},
   "source": [
    "[Top of Page](#title_ID)"
   ]
  },
  {
   "cell_type": "markdown",
   "metadata": {},
   "source": [
    "***"
   ]
  },
  {
   "cell_type": "markdown",
   "metadata": {},
   "source": [
    "<a id=\"lightcurve_ID\"></a>\n",
    "## Plotting a Light Curve\n",
    "<br>Now that we have seen and accessed the data, we can begin to plot a light curve:\n",
    "\n",
    "1. Open the file using command fits.open. This will allow the program to read and store the data we will manipulate to be plotted. Here we've also renamed the file with a phrase that is easier to handle (see line 1). \n",
    "<br>\n",
    "<br>\n",
    "2. Start by calibrating the time. Because the Kepler data is in BKJD (Kepler Barycentric Julian Day) we need to convert it to time in Julian Days (BJD) if we want to be able to compare it to other outside data. For a more detailed explanation about time conversions, visit the [page 13](https://archive.stsci.edu/kepler/manuals/archive_manual.pdf#page=13) or [page 17](https://archive.stsci.edu/kepler/manuals/archive_manual.pdf#page=17) of the Kepler Archive Manual.\n",
    "<br>\n",
    "    - Read in the BJDREF times, both the integer (BJDREFI) and the floating point (BJDREFF). These are found as columns of data in the *binary extension* of the header. \n",
    "<br>\n",
    "<br>\n",
    "3. Read in the columns of times and fluxes (both uncorrected and corrected) from the data."
   ]
  },
  {
   "cell_type": "code",
   "execution_count": 54,
   "metadata": {},
   "outputs": [
    {
     "name": "stdout",
     "output_type": "stream",
     "text": [
      "2454833\n",
      "0.0\n"
     ]
    }
   ],
   "source": [
    "with fits.open(filename, mode=\"readonly\") as hdulist:\n",
    "    # Read in the \"BJDREF\" which is the time offset of the time array.\n",
    "    bjdrefi = hdulist[1].header['BJDREFI'] \n",
    "    bjdreff = hdulist[1].header['BJDREFF']\n",
    "    \n",
    "    print(bjdrefi)\n",
    "    print(bjdreff)\n",
    "\n",
    "    # Read in the columns of data.\n",
    "    times = hdulist[1].data['time'] \n",
    "    sap_fluxes = hdulist[1].data['SAP_FLUX']\n",
    "    pdcsap_fluxes = hdulist[1].data['PDCSAP_FLUX']"
   ]
  },
  {
   "cell_type": "markdown",
   "metadata": {},
   "source": [
    "4. Now that the appropriate data has been read and stored, convert the times to BJDS by adding the BJDREF times to the data of times. \n",
    "<br>\n",
    "<br>\n",
    "5. Finally, we can plot the fluxes against time. We can also set a title and add a legend to the plot. We can label our fluxes accordingly and assign them colors and styles (\"-k\" for a black line, \"-b\" for a blue line)."
   ]
  },
  {
   "cell_type": "code",
   "execution_count": 55,
   "metadata": {},
   "outputs": [],
   "source": [
    "%matplotlib inline"
   ]
  },
  {
   "cell_type": "code",
   "execution_count": 108,
   "metadata": {},
   "outputs": [
    {
     "data": {
      "image/png": "[encoded data removed]",
      "text/plain": [
       "<Figure size 900x400 with 1 Axes>"
      ]
     },
     "metadata": {},
     "output_type": "display_data"
    }
   ],
   "source": [
    "# Convert the time array to full BJD by adding the offset back in.\n",
    "bjds = times + bjdrefi + bjdreff \n",
    "\n",
    "plt.figure(figsize=(9,4))\n",
    "\n",
    "# Plot the time, uncorrected and corrected fluxes.\n",
    "plt.plot(bjds, sap_fluxes, '-k', label='SAP Flux') \n",
    "plt.plot(bjds, pdcsap_fluxes, '-b', label='PDCSAP Flux') \n",
    "\n",
    "plt.title('Kepler Light Curve')\n",
    "plt.legend()\n",
    "plt.xlabel('Time (days)')\n",
    "plt.ylabel('Flux (electrons/second)')\n",
    "plt.show()"
   ]
  },
  {
   "cell_type": "markdown",
   "metadata": {},
   "source": [
    "[Top of Page](#title_ID)"
   ]
  },
  {
   "cell_type": "markdown",
   "metadata": {},
   "source": [
    "***"
   ]
  },
  {
   "cell_type": "code",
   "execution_count": 59,
   "metadata": {},
   "outputs": [
    {
     "data": {
      "text/plain": [
       "array([401333.16, 401288.16, 401425.53, 401172.  , 401473.62, 401465.44,\n",
       "       401342.  , 401485.1 , 401244.03, 401389.53, 401256.7 , 401313.1 ,\n",
       "       401323.5 , 401494.97, 401218.56, 402024.6 , 401337.28, 401196.97,\n",
       "       401509.88, 401122.44, 401442.56, 401486.4 , 401250.78, 401266.28,\n",
       "       401229.94, 401308.22, 401202.  , 401385.25, 401369.66, 401317.6 ,\n",
       "       401281.72, 401351.53, 401316.47, 401311.97, 401250.2 , 401152.62,\n",
       "       401294.72, 401423.5 , 401285.34, 401172.75, 401287.78, 401369.7 ,\n",
       "       401352.4 , 401436.6 , 401262.2 , 401320.2 , 401380.47, 401172.62,\n",
       "       401279.94, 401413.7 , 401351.88, 401377.94, 401198.97, 401332.  ,\n",
       "       401203.94, 401185.1 , 401170.06, 401252.03, 401276.3 , 401391.88,\n",
       "       401284.28, 401320.5 , 401328.94, 401299.4 , 401406.38, 401278.44,\n",
       "       401472.1 , 401285.44, 401155.03, 401424.66, 401234.78, 401353.4 ,\n",
       "       401233.38, 401254.22, 401251.2 , 401222.97, 401329.7 , 401451.78,\n",
       "       401441.28, 401420.53, 401291.6 , 401454.34, 401361.5 , 401428.75,\n",
       "       401440.53, 401235.88, 401328.9 , 401322.4 , 401357.4 , 401390.1 ,\n",
       "       401288.53, 401398.4 , 401429.03, 401374.38, 401307.78, 401237.03,\n",
       "       401373.8 , 401207.78, 401187.75, 401516.25], dtype='>f4')"
      ]
     },
     "execution_count": 59,
     "metadata": {},
     "output_type": "execute_result"
    }
   ],
   "source": [
    "sap_fluxes[0:100]"
   ]
  },
  {
   "cell_type": "code",
   "execution_count": 71,
   "metadata": {},
   "outputs": [
    {
     "name": "stdout",
     "output_type": "stream",
     "text": [
      "14280\n",
      "5283.6\n",
      "8853.6\n"
     ]
    }
   ],
   "source": [
    "# method to find time period!\n",
    "import numpy as np\n",
    "print(sap_fluxes.size)\n",
    "a = 14280*0.37\n",
    "print(a)\n",
    "b = 14280*0.62\n",
    "print(b)\n",
    "a = 5284\n",
    "b = 8854"
   ]
  },
  {
   "cell_type": "code",
   "execution_count": 89,
   "metadata": {},
   "outputs": [
    {
     "data": {
      "text/plain": [
       "(array([3281], dtype=int64),)"
      ]
     },
     "execution_count": 89,
     "metadata": {},
     "output_type": "execute_result"
    }
   ],
   "source": [
    "f1 = sap_fluxes[0:a]\n",
    "f2 = sap_fluxes[a+1:b]\n",
    "value = np.where(f1==min(f1))\n",
    "value"
   ]
  },
  {
   "cell_type": "code",
   "execution_count": 99,
   "metadata": {},
   "outputs": [
    {
     "data": {
      "text/plain": [
       "2454955.7640689346"
      ]
     },
     "execution_count": 99,
     "metadata": {},
     "output_type": "execute_result"
    }
   ],
   "source": [
    "t1 = bjds[3281]\n",
    "t1"
   ]
  },
  {
   "cell_type": "code",
   "execution_count": 94,
   "metadata": {},
   "outputs": [
    {
     "data": {
      "text/plain": [
       "(array([1623], dtype=int64),)"
      ]
     },
     "execution_count": 94,
     "metadata": {},
     "output_type": "execute_result"
    }
   ],
   "source": [
    "value2 = np.where(f2==min(f2))\n",
    "value2"
   ]
  },
  {
   "cell_type": "code",
   "execution_count": 100,
   "metadata": {},
   "outputs": [
    {
     "data": {
      "text/plain": [
       "2454958.234569723"
      ]
     },
     "execution_count": 100,
     "metadata": {},
     "output_type": "execute_result"
    }
   ],
   "source": [
    "t2 = bjds[1623+1+5284]\n",
    "t2"
   ]
  },
  {
   "cell_type": "code",
   "execution_count": 102,
   "metadata": {},
   "outputs": [
    {
     "data": {
      "text/plain": [
       "2.4705007881857455"
      ]
     },
     "execution_count": 102,
     "metadata": {},
     "output_type": "execute_result"
    }
   ],
   "source": [
    "t2 - t1 # this is the time period!!!"
   ]
  },
  {
   "cell_type": "markdown",
   "metadata": {},
   "source": [
    "## METHOD 2 "
   ]
  },
  {
   "cell_type": "markdown",
   "metadata": {},
   "source": [
    "To find the period quantitatively, using a Lomb-Scargle Periodogram seems slightly inappropriate; this light curve doesn't resemble a sinusoid in any way. Instead we will use another Periodogram in astropy.timeseries called BoxLeastSquares. The usage is similar to LombScargle; so it is left to you to find the period of the transits, and hence the orbital period of the exoplanet.\n",
    "\n",
    "We will be using BoxLeastSqaures"
   ]
  },
  {
   "cell_type": "code",
   "execution_count": 116,
   "metadata": {},
   "outputs": [
    {
     "data": {
      "text/plain": [
       "(array([ 4064,  4065,  4066,  4067,  4068,  4069,  4070,  4071,  4072,\n",
       "         4073,  4074,  6679,  8414,  8415,  8416,  8417,  8418,  8419,\n",
       "         8420,  8421,  8422,  8423,  8424, 11470, 11471, 11472, 11473,\n",
       "        11474, 11475, 11476, 11477, 11478, 11479, 11480, 11481, 12147,\n",
       "        12148], dtype=int64),)"
      ]
     },
     "execution_count": 116,
     "metadata": {},
     "output_type": "execute_result"
    }
   ],
   "source": [
    "# There are some NaN values in the flux. So, we will find their indices to filter them out\n",
    "sel_nan = np.isnan(sap_fluxes) #NaN = not a number\n",
    "np.where(sel_nan==True)\n",
    "# sap_fluxes[4064]"
   ]
  },
  {
   "cell_type": "code",
   "execution_count": 118,
   "metadata": {},
   "outputs": [],
   "source": [
    "from astropy.timeseries import BoxLeastSquares\n",
    "\n",
    "# Implement BoxLeastSquares\n",
    "model = BoxLeastSquares(bjds[~sel_nan], sap_fluxes[~sel_nan]) # ~ is the unary Not operator\n",
    "periodogram = model.autopower(0.2)"
   ]
  },
  {
   "cell_type": "code",
   "execution_count": 120,
   "metadata": {},
   "outputs": [
    {
     "data": {
      "text/plain": [
       "[<matplotlib.lines.Line2D at 0x252132e0f80>]"
      ]
     },
     "execution_count": 120,
     "metadata": {},
     "output_type": "execute_result"
    },
    {
     "data": {
      "image/png": "[encoded data removed]",
      "text/plain": [
       "<Figure size 800x600 with 1 Axes>"
      ]
     },
     "metadata": {},
     "output_type": "display_data"
    }
   ],
   "source": [
    "# Plot the power Spectrum\n",
    "periods = periodogram.period\n",
    "power = periodogram.power\n",
    "\n",
    "plt.figure(figsize=(8,6))\n",
    "plt.plot(periods, power)"
   ]
  },
  {
   "cell_type": "code",
   "execution_count": 121,
   "metadata": {},
   "outputs": [
    {
     "name": "stdout",
     "output_type": "stream",
     "text": [
      "2.4835596538949924\n"
     ]
    },
    {
     "data": {
      "text/plain": [
       "Text(0, 0.5, 'Flux [e/s]')"
      ]
     },
     "execution_count": 121,
     "metadata": {},
     "output_type": "execute_result"
    },
    {
     "data": {
      "image/png": "[encoded data removed]",
      "text/plain": [
       "<Figure size 800x600 with 1 Axes>"
      ]
     },
     "metadata": {},
     "output_type": "display_data"
    }
   ],
   "source": [
    "best_period = periods[np.argmax(power)]\n",
    "# Plot the Phase-Folded Light curve for the Exoplant Transit using the Period found.\n",
    "\n",
    "# The added phase to the time is just to center the transit.\n",
    "phase = np.remainder(bjds, best_period)/best_period \n",
    "\n",
    "print(best_period)\n",
    "\n",
    "plt.figure(figsize=(8,6))\n",
    "plt.scatter(phase, sap_fluxes, s=1, color='k')\n",
    "plt.xlabel(\"Phase\")\n",
    "plt.ylabel(\"Flux [e/s]\")"
   ]
  },
  {
   "cell_type": "code",
   "execution_count": null,
   "metadata": {},
   "outputs": [],
   "source": []
  }
 ],
 "metadata": {
  "kernelspec": {
   "display_name": "Python 3 (ipykernel)",
   "language": "python",
   "name": "python3"
  },
  "language_info": {
   "codemirror_mode": {
    "name": "ipython",
    "version": 3
   },
   "file_extension": ".py",
   "mimetype": "text/x-python",
   "name": "python",
   "nbconvert_exporter": "python",
   "pygments_lexer": "ipython3",
   "version": "3.8.18"
  }
 },
 "nbformat": 4,
 "nbformat_minor": 4
}
